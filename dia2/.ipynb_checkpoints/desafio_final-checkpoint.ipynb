{
 "cells": [
  {
   "cell_type": "markdown",
   "metadata": {},
   "source": [
    "![](https://ifttt.com/blog/2012/06/the-new-ifttt/_jcr_content/image.img.png/1493526759743.png)\n",
    "# IfThisThenThat\n",
    "\n",
    "* Instalar o app to IFTTT no celular\n",
    "* Cria um conta de desenvolvedor: https://ifttt.com/maker_webhooks"
   ]
  },
  {
   "cell_type": "code",
   "execution_count": 9,
   "metadata": {},
   "outputs": [
    {
     "name": "stdout",
     "output_type": "stream",
     "text": [
      "https://maker.ifttt.com/trigger/curso/with/key/egHPyT72DtbsKwobBI46S8YRJT4ZfV6YFRzcGxehH0X\n"
     ]
    },
    {
     "data": {
      "text/plain": [
       "b\"Congratulations! You've fired the curso event\""
      ]
     },
     "execution_count": 9,
     "metadata": {},
     "output_type": "execute_result"
    }
   ],
   "source": [
    " import requests\n",
    "\n",
    "def marketing_inferir(nu_telefone, nome, evento='curso'):\n",
    "    ifttt_key = SUA_CHAVE_IFTTT\n",
    "    url = 'https://maker.ifttt.com/trigger/{}/with/key/{}'.format(evento, ifttt_key)\n",
    "    print(url)\n",
    "    data = {'value1': nu_telefone, 'value2': nome}\n",
    "    r = requests.post(url, json=data)\n",
    "    return r.content\n",
    "\n",
    "send('998191600', 'Rafael')\n"
   ]
  },
  {
   "cell_type": "markdown",
   "metadata": {},
   "source": [
    "# Desafio Final: Cria um alerta por SMS. \n",
    "Sugestões: \n",
    "\n",
    "* preço de ação\n",
    "* umidade\n",
    "* preço\n",
    "* atualização de site"
   ]
  }
 ],
 "metadata": {
  "kernelspec": {
   "display_name": "Python 3",
   "language": "python",
   "name": "python3"
  },
  "language_info": {
   "codemirror_mode": {
    "name": "ipython",
    "version": 3
   },
   "file_extension": ".py",
   "mimetype": "text/x-python",
   "name": "python",
   "nbconvert_exporter": "python",
   "pygments_lexer": "ipython3",
   "version": "3.6.3"
  }
 },
 "nbformat": 4,
 "nbformat_minor": 2
}
