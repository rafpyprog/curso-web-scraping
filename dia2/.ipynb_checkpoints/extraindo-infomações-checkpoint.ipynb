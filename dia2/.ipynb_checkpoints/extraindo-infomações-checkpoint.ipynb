{
 "cells": [
  {
   "cell_type": "markdown",
   "metadata": {},
   "source": [
    "<center>\n",
    "    <a href=\"http://www.inferir.com.br\" title=\"Inferir Estatística\">\n",
    "        <img src=\"http://www.inferir.com.br/wp-content/uploads/logo1.png\" style=\"width: 15%; height: 15%;\">\n",
    "    </a>    \n",
    "    <h1>Curso de Web Scraping</h1></center>"
   ]
  },
  {
   "cell_type": "markdown",
   "metadata": {},
   "source": [
    "# PDF\n",
    "![](https://poppler.freedesktop.org/logo.png)\n",
    "http://blog.alivate.com.au/poppler-windows/"
   ]
  },
  {
   "cell_type": "code",
   "execution_count": 34,
   "metadata": {},
   "outputs": [
    {
     "name": "stdout",
     "output_type": "stream",
     "text": [
      "None None\n"
     ]
    }
   ],
   "source": [
    "from subprocess import Popen, PIPE\n",
    "import os\n",
    "\n",
    "def extrai_imagens(arquivo, nome='image', formato='png'):    \n",
    "    fmt = '-{}'.format(formato)\n",
    "    proc = Popen(['pdfimages', fmt, arquivo, nome])\n",
    "    out, err = proc.communicate()\n",
    "    print(err, out)\n",
    "    return out\n",
    "\n",
    "def extrai_texto(arquivo, txtout=None):\n",
    "    cmd = ['pdftotext', arquivo]\n",
    "    if txtout:\n",
    "        cmd.append(txtout)\n",
    "    proc = Popen(cmd)\n",
    "    out, err = proc.communicate()\n",
    "    return out\n",
    "\n",
    "extrai_texto(\"bt.pdf\", 'teste.txt')\n",
    "extrai_imagens('bt.pdf', nome='im')"
   ]
  },
  {
   "cell_type": "markdown",
   "metadata": {},
   "source": [
    "# OCR\n",
    "\n",
    "Download do Tesseract: https://github.com/tesseract-ocr/tesseract/wiki\n",
    "\n",
    "``` pip install pytesseract ```\n",
    "\n",
    "![](./img/tesseract.png)"
   ]
  },
  {
   "cell_type": "code",
   "execution_count": 33,
   "metadata": {},
   "outputs": [
    {
     "name": "stdout",
     "output_type": "stream",
     "text": [
      "The (quick) [brown] {fox} jumps!\n",
      "Over the $43,456.78 <lazy> #90 dog\n",
      "& duck/goose, as 12.5% of E-mail\n",
      "from aspammer@website.com is spam.\n",
      "Der ,,schnelle” braune Fuchs springt\n",
      "ﬁber den faulen Hund. Le renard brun\n",
      "«rapide» saute par-dessus le chien\n",
      "paresseux. La volpe marrone rapida\n",
      "salta sopra i] cane pigro. El zorro\n",
      "marrén répido salta sobre el perro\n",
      "perezoso. A raposa marrom répida\n",
      "salta sobre 0 C50 preguieoso.\n"
     ]
    }
   ],
   "source": [
    "import pytesseract\n",
    "\n",
    "print(pytesseract.image_to_string(Image.open('./img/tesseract.png')))"
   ]
  },
  {
   "cell_type": "code",
   "execution_count": 35,
   "metadata": {},
   "outputs": [
    {
     "name": "stdout",
     "output_type": "stream",
     "text": [
      "Oct 2016 Oct 2015 Change Programming Langu\n",
      "\n",
      "1 1 Java\n",
      "2 2 C\n",
      "\n",
      "3 3 C++\n",
      "4 4 C#\n",
      "\n",
      "5 5 Python\n"
     ]
    }
   ],
   "source": [
    "print(pytesseract.image_to_string(Image.open('im-000.png')))"
   ]
  },
  {
   "cell_type": "code",
   "execution_count": null,
   "metadata": {},
   "outputs": [],
   "source": []
  }
 ],
 "metadata": {
  "kernelspec": {
   "display_name": "Python 3",
   "language": "python",
   "name": "python3"
  },
  "language_info": {
   "codemirror_mode": {
    "name": "ipython",
    "version": 3
   },
   "file_extension": ".py",
   "mimetype": "text/x-python",
   "name": "python",
   "nbconvert_exporter": "python",
   "pygments_lexer": "ipython3",
   "version": "3.6.3"
  }
 },
 "nbformat": 4,
 "nbformat_minor": 2
}
