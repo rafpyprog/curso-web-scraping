{
 "cells": [
  {
   "cell_type": "code",
   "execution_count": 105,
   "metadata": {},
   "outputs": [],
   "source": [
    "from selenium.webdriver import Chrome, Firefox, ChromeOptions\n",
    "from selenium.common.exceptions import TimeoutException\n",
    "from selenium.webdriver.common.by import By\n",
    "from selenium.webdriver.support.ui import WebDriverWait\n",
    "from selenium.webdriver.support import expected_conditions as EC"
   ]
  },
  {
   "cell_type": "code",
   "execution_count": 96,
   "metadata": {},
   "outputs": [],
   "source": [
    "def set_driver():    \n",
    "    chrome_options = ChromeOptions()  \n",
    "    chrome_options.add_argument(\"--headless\")  \n",
    "    driver = Chrome(chrome_options=chrome_options)\n",
    "    return driver"
   ]
  },
  {
   "cell_type": "code",
   "execution_count": 81,
   "metadata": {},
   "outputs": [],
   "source": [
    "def parse_anuncio(anuncio):\n",
    "    url = anuncio.find_element_by_tag_name('a').get_attribute('href')\n",
    "    profissional = anuncio.find_elements_by_tag_name('span') != []\n",
    "    return url, profissional"
   ]
  },
  {
   "cell_type": "code",
   "execution_count": 97,
   "metadata": {},
   "outputs": [],
   "source": [
    "url = 'https://df.olx.com.br/imoveis/aluguel'\n",
    "driver = set_driver()\n",
    "wait = WebDriverWait(driver, 10).until"
   ]
  },
  {
   "cell_type": "code",
   "execution_count": 98,
   "metadata": {},
   "outputs": [
    {
     "data": {
      "text/plain": [
       "<selenium.webdriver.remote.webelement.WebElement (session=\"a3652df2b9f36b3f9c289f0b33d35cd1\", element=\"0.13161295717368415-1\")>"
      ]
     },
     "execution_count": 98,
     "metadata": {},
     "output_type": "execute_result"
    }
   ],
   "source": [
    "driver.get(url)\n",
    "ID_LISTA_ANUNCIOS = 'main-ad-list'\n",
    "wait(EC.presence_of_element_located((By.ID, ID_LISTA_ANUNCIOS)))"
   ]
  },
  {
   "cell_type": "code",
   "execution_count": 99,
   "metadata": {},
   "outputs": [
    {
     "name": "stdout",
     "output_type": "stream",
     "text": [
      "Encontrados 50 anuncios\n"
     ]
    }
   ],
   "source": [
    "lista_anuncios = driver.find_element_by_id(ID_LISTA_ANUNCIOS)\n",
    "anuncios = lista_anuncios.find_elements_by_tag_name('li')\n",
    "anuncios = [i for i in anuncios if i.get_attribute('class') != 'item list_native']\n",
    "qtd_imoveis = len(anuncios)\n",
    "print('Encontrados {} anuncios'.format(qtd_imoveis))"
   ]
  },
  {
   "cell_type": "code",
   "execution_count": 100,
   "metadata": {},
   "outputs": [
    {
     "name": "stdout",
     "output_type": "stream",
     "text": [
      "Encontrados 44 clientes\n"
     ]
    }
   ],
   "source": [
    "clientes = []\n",
    "for i, anuncio in enumerate(anuncios):    \n",
    "    url, profissional = parse_anuncio(anuncio)\n",
    "    if profissional is not True:\n",
    "        clientes.append(url)\n",
    "print('Encontrados {} clientes'.format(len(clientes)))"
   ]
  },
  {
   "cell_type": "code",
   "execution_count": 101,
   "metadata": {},
   "outputs": [],
   "source": [
    "def pega_dados_anuncio(driver, url):\n",
    "    driver.get(url)\n",
    "    driver.switch_to.default_content()\n",
    "    wait(EC.presence_of_element_located((By.ID, 'ad_title')))\n",
    "    driver.find_element_by_link_text('... ver número').click()\n",
    "    telefone = wait(EC.presence_of_element_located((By.ID, 'visible_phone')))\n",
    "    return telefone"
   ]
  },
  {
   "cell_type": "code",
   "execution_count": 102,
   "metadata": {},
   "outputs": [],
   "source": [
    "span_fone = pega_dados_anuncio(driver, clientes[0])\n",
    "imagem = span_fone.find_element_by_tag_name('img')\n",
    "url_imagem_fone = imagem.get_attribute('src')"
   ]
  },
  {
   "cell_type": "code",
   "execution_count": 104,
   "metadata": {},
   "outputs": [
    {
     "data": {
      "image/png": "[encoded data removed]",
      "text/plain": [
       "<IPython.core.display.Image object>"
      ]
     },
     "execution_count": 104,
     "metadata": {},
     "output_type": "execute_result"
    }
   ],
   "source": [
    "from IPython.display import Image\n",
    "import requests\n",
    "\n",
    "imagem = requests.get(url_imagem_fone).content\n",
    "Image(imagem)"
   ]
  },
  {
   "cell_type": "code",
   "execution_count": 103,
   "metadata": {},
   "outputs": [],
   "source": [
    "with open('fone_cliente.gif', 'wb') as f:\n",
    "    f.write(imagem)"
   ]
  },
  {
   "cell_type": "code",
   "execution_count": null,
   "metadata": {},
   "outputs": [],
   "source": []
  }
 ],
 "metadata": {
  "kernelspec": {
   "display_name": "Python 3",
   "language": "python",
   "name": "python3"
  },
  "language_info": {
   "codemirror_mode": {
    "name": "ipython",
    "version": 3
   },
   "file_extension": ".py",
   "mimetype": "text/x-python",
   "name": "python",
   "nbconvert_exporter": "python",
   "pygments_lexer": "ipython3",
   "version": "3.6.3"
  }
 },
 "nbformat": 4,
 "nbformat_minor": 2
}
