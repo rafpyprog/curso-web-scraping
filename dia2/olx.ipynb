{
 "cells": [
  {
   "cell_type": "markdown",
   "metadata": {},
   "source": [
    "<center>\n",
    "    <h1>Estudo de Caso - OLX</h1>\n",
    "    <img src=\"https://upload.wikimedia.org/wikipedia/commons/thumb/2/28/OLX_Logo.jpg/256px-OLX_Logo.jpg\"/>\n",
    "</center>"
   ]
  },
  {
   "cell_type": "code",
   "execution_count": 3,
   "metadata": {},
   "outputs": [],
   "source": [
    "from typing import TypeVar\n",
    "\n",
    "from selenium.webdriver.firefox.webdriver import WebDriver as FirefoxWebDriver\n",
    "from selenium.webdriver.chrome.webdriver import WebDriver as ChromeWebDriver\n",
    "from selenium.webdriver import Chrome, Firefox, ChromeOptions, FirefoxOptions\n",
    "from selenium.common.exceptions import TimeoutException\n",
    "from selenium.webdriver.common.by import By\n",
    "from selenium.webdriver.support.ui import WebDriverWait\n",
    "from selenium.webdriver.support import expected_conditions as EC\n",
    "\n",
    "WebDriver = TypeVar('WebDriver', FirefoxWebDriver, ChromeWebDriver)"
   ]
  },
  {
   "cell_type": "code",
   "execution_count": 4,
   "metadata": {},
   "outputs": [],
   "source": [
    "def set_driver(browser: str, headless: bool=True, binary_location: str=None, **kwargs) -> WebDriver:\n",
    "    '''\n",
    "    Cria uma instancia Webdriver do Firefox ou Google Chrome.\n",
    "    '''\n",
    "    browsers = {'firefox': (Firefox, FirefoxOptions), 'chrome': (Chrome, ChromeOptions)}\n",
    "    webdriver, options = browsers[browser.lower()]\n",
    "    options = options()    \n",
    "    options.headless = headless    \n",
    "    \n",
    "    if binary_location is not None:\n",
    "        options.binary_location = binary_location\n",
    "    \n",
    "    return webdriver(options=options, **kwargs)"
   ]
  },
  {
   "cell_type": "code",
   "execution_count": 5,
   "metadata": {},
   "outputs": [],
   "source": [
    "def parse_anuncio(anuncio):\n",
    "    url = anuncio.find_element_by_tag_name('a').get_attribute('href')\n",
    "    profissional = anuncio.find_elements_by_tag_name('span') != []\n",
    "    return url, profissional"
   ]
  },
  {
   "cell_type": "code",
   "execution_count": 6,
   "metadata": {},
   "outputs": [],
   "source": [
    "url = 'https://df.olx.com.br/imoveis/aluguel'\n",
    "driver = set_driver('firefox')\n",
    "wait = WebDriverWait(driver, 10).until"
   ]
  },
  {
   "cell_type": "code",
   "execution_count": null,
   "metadata": {},
   "outputs": [],
   "source": [
    "driver.get(url)\n",
    "ID_LISTA_ANUNCIOS = 'main-ad-list'\n",
    "wait(EC.presence_of_element_located((By.ID, ID_LISTA_ANUNCIOS)))"
   ]
  },
  {
   "cell_type": "code",
   "execution_count": null,
   "metadata": {},
   "outputs": [],
   "source": [
    "lista_anuncios = driver.find_element_by_id(ID_LISTA_ANUNCIOS)\n",
    "anuncios = lista_anuncios.find_elements_by_tag_name('li')\n",
    "anuncios = [i for i in anuncios if i.get_attribute('class') != 'item list_native']\n",
    "qtd_imoveis = len(anuncios)\n",
    "print('Encontrados {} anuncios'.format(qtd_imoveis))"
   ]
  },
  {
   "cell_type": "code",
   "execution_count": null,
   "metadata": {},
   "outputs": [],
   "source": [
    "clientes = []\n",
    "for i, anuncio in enumerate(anuncios):    \n",
    "    url, profissional = parse_anuncio(anuncio)\n",
    "    if profissional is not True:\n",
    "        clientes.append(url)\n",
    "print('Encontrados {} clientes'.format(len(clientes)))"
   ]
  },
  {
   "cell_type": "code",
   "execution_count": null,
   "metadata": {},
   "outputs": [],
   "source": [
    "def pega_dados_anuncio(driver, url):\n",
    "    driver.get(url)\n",
    "    driver.switch_to.default_content()\n",
    "    wait(EC.presence_of_element_located((By.ID, 'ad_title')))\n",
    "    driver.find_element_by_link_text('... ver número').click()\n",
    "    telefone = wait(EC.presence_of_element_located((By.ID, 'visible_phone')))\n",
    "    return telefone"
   ]
  },
  {
   "cell_type": "code",
   "execution_count": null,
   "metadata": {},
   "outputs": [],
   "source": [
    "span_fone = pega_dados_anuncio(driver, clientes[0])\n",
    "imagem = span_fone.find_element_by_tag_name('img')\n",
    "url_imagem_fone = imagem.get_attribute('src')"
   ]
  },
  {
   "cell_type": "code",
   "execution_count": null,
   "metadata": {},
   "outputs": [],
   "source": [
    "from IPython.display import Image\n",
    "import requests\n",
    "\n",
    "imagem = requests.get(url_imagem_fone).content\n",
    "Image(imagem)"
   ]
  },
  {
   "cell_type": "code",
   "execution_count": null,
   "metadata": {},
   "outputs": [],
   "source": [
    "with open('fone_cliente.gif', 'wb') as f:\n",
    "    f.write(imagem)"
   ]
  },
  {
   "cell_type": "code",
   "execution_count": null,
   "metadata": {},
   "outputs": [],
   "source": []
  }
 ],
 "metadata": {
  "kernelspec": {
   "display_name": "WebScraping",
   "language": "python",
   "name": "webscraping"
  },
  "language_info": {
   "codemirror_mode": {
    "name": "ipython",
    "version": 3
   },
   "file_extension": ".py",
   "mimetype": "text/x-python",
   "name": "python",
   "nbconvert_exporter": "python",
   "pygments_lexer": "ipython3",
   "version": "3.6.6"
  }
 },
 "nbformat": 4,
 "nbformat_minor": 2
}
