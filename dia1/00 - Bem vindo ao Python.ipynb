{
 "cells": [
  {
   "cell_type": "markdown",
   "metadata": {},
   "source": [
    "<!-- cabeçalho -->\n",
    "# Curso de Web Scraping com Python\n",
    "<img src=\"https://inferir.com.br/wp-content/uploads/Banner-Web-Scraping.jpg\">"
   ]
  },
  {
   "cell_type": "markdown",
   "metadata": {},
   "source": [
    "## Bem Vindo(a) ao Python !\n",
    "\n",
    "<p style=\"text-align: justify\">\n",
    "Python é uma linguagem de programação de alto nível, interpretada, de script, imperativa, orientada a objetos, funcional, de tipagem dinâmica e forte. Foi lançada por Guido van Rossum em 1991. Atualmente possui um modelo de desenvolvimento comunitário, aberto e gerenciado pela organização sem fins lucrativos Python Software Foundation.</p>\n",
    "\n",
    "<p style=\"text-align: justify\">\n",
    "A linguagem foi projetada com a filosofia de enfatizar a importância do esforço do programador sobre o esforço computacional. Prioriza a legibilidade do código sobre a velocidade ou expressividade. Combina uma sintaxe concisa e clara com os recursos poderosos de sua biblioteca padrão e por módulos e frameworks desenvolvidos por terceiros.\n",
    "</p>\n",
    "    \n",
    "\n",
    "<img style=\"width: 50%\" src=\"https://gvanrossum.github.io/images/GuidoByPeterAdams.jpg\">\n",
    "<p style=\"text-align: center\"><a href=\"https://gvanrossum.github.io/\">Guido van Rossum</a> - Criador da linguagem Python<p>\n",
    "\n",
    "\n",
    "### Porque aprender Python\n",
    "\n",
    "* Fácil de aprender a praticar\n",
    "* Fortemente usado no mercado: Google, Facebook(Instagram), Microsoft, Dropbox, Globo.com, etc.\n",
    "* Utilizando em várias áreas - web, data science, devops, automação, IA e muito mais.\n",
    "\n",
    "<img src=\"img/ranking-TIOBE-201903.png\">\n",
    "\n",
    "\n",
    "### O Zen do Python"
   ]
  },
  {
   "cell_type": "code",
   "execution_count": 1,
   "metadata": {
    "ExecuteTime": {
     "end_time": "2019-03-30T04:23:54.334624Z",
     "start_time": "2019-03-30T04:23:54.318124Z"
    }
   },
   "outputs": [
    {
     "name": "stdout",
     "output_type": "stream",
     "text": [
      "The Zen of Python, by Tim Peters\n",
      "\n",
      "Beautiful is better than ugly.\n",
      "Explicit is better than implicit.\n",
      "Simple is better than complex.\n",
      "Complex is better than complicated.\n",
      "Flat is better than nested.\n",
      "Sparse is better than dense.\n",
      "Readability counts.\n",
      "Special cases aren't special enough to break the rules.\n",
      "Although practicality beats purity.\n",
      "Errors should never pass silently.\n",
      "Unless explicitly silenced.\n",
      "In the face of ambiguity, refuse the temptation to guess.\n",
      "There should be one-- and preferably only one --obvious way to do it.\n",
      "Although that way may not be obvious at first unless you're Dutch.\n",
      "Now is better than never.\n",
      "Although never is often better than *right* now.\n",
      "If the implementation is hard to explain, it's a bad idea.\n",
      "If the implementation is easy to explain, it may be a good idea.\n",
      "Namespaces are one honking great idea -- let's do more of those!\n"
     ]
    }
   ],
   "source": [
    "import this"
   ]
  },
  {
   "cell_type": "markdown",
   "metadata": {},
   "source": [
    "<img src=\"img/zen-of-python.png\">"
   ]
  },
  {
   "cell_type": "markdown",
   "metadata": {},
   "source": [
    "## Instalando o Python\n",
    "\n",
    "\n",
    "### Windows\n",
    "\n",
    "<div style=\"text-align: justify;\">\n",
    "<p>Para instalar o Python em Windows, baixe o instalador do site oficial em **https://www.python.org/downloads/**. Dê preferência ao Python 3, já que a versão 2.x é mantida por compatibilidade com códigos antigos e será descontinuada em 2020.</p>\n",
    " \n",
    "<p>Rode o instalador baixado para instalar o Python no sistema e selecione a opçãp de configurar de adicionar o Python ao path do sistema quando exibida.</p>\n",
    "\n",
    "    \n",
    "\n",
    "<img src=\"img/install-py-win.jpg\">\n",
    "\n",
    "#### Instalando o pip\n",
    "\n",
    "Para que você consiga instalar os pacotes do Python é necessário que você tenha o ```pip``` instalado no sistema. Este procedimento funciona com Python 2.7.9 ou versões superiores e Python 3.x.\n",
    "\n",
    "Clique com o botão direito no icone do windows e selecione executar:\n",
    "\n",
    "<img src=\"img/windows-pip.png\">\n",
    "\n",
    "Digite ```cmd``` e clique em ok:\n",
    "\n",
    "<img src=\"img/windows-run-cmd.png\">\n",
    "\n",
    "Na linha de comando execute ```python -m ensurepip```:\n",
    "\n",
    "<img src=\"img/windows-ensure-pip.png\">\n",
    "\n",
    "Se o comando retornar dizendo que os requisitos já estão satisfeitos execute ```python -m ensurepip --upgrade```:\n",
    "\n",
    "<img src=\"img/windows-ensurepip-upgrade.png\">"
   ]
  },
  {
   "cell_type": "markdown",
   "metadata": {},
   "source": [
    "### Linux\n",
    "\n",
    "### Debian e Ubuntu\n",
    "\n",
    "* ```sudo apt-get install python3.6```\n",
    "\n",
    "Para instalar o gerenciador de pacotes pip:\n",
    "* ```sudo apt-get install python-pip```\n",
    "\n",
    "### RedHat, CentOS\n",
    "* ```sudo yum install python36```\n",
    "\n",
    "Para instalar o gerenciador de pacotes pip:\n",
    "* ```yum -y install python-pip```"
   ]
  },
  {
   "cell_type": "markdown",
   "metadata": {},
   "source": [
    "### MAC\n",
    "\n",
    "\n",
    "Antes de fazer a instalação do Python, é preciso fazer a instalação do XCode, que pode ser baixado na App Store, do pacote para desenvolvimento em linha de comando no macOS, command line tools e dos gerenciadores de pacotes pip e homebrew.\n",
    "\n",
    "Para instalar o command line tools, digite em um terminal:\n",
    "\n",
    "```xcode-select --install```\n",
    "\n",
    "Para instalar o pip, digite em um terminal:\n",
    "\n",
    "```sudo easy_install pip```\n",
    "\n",
    "Para atualizar o pip, digite em um terminal:\n",
    "\n",
    "```sudo pip install --upgrade pip```\n",
    "\n",
    "Para instalar o homebrew, digite em um terminal:\n",
    "\n",
    "```ruby -e \"$(curl -fsSL https://raw.github.com/mxcl/homebrew/go)\"```\n",
    "\n",
    "Para instalar o Python 2, digite em um terminal:\n",
    "\n",
    "```brew install python```\n",
    "\n",
    "Para instalar o Python 3, digite em um terminal:\n",
    "\n",
    "```brew install python3```"
   ]
  },
  {
   "cell_type": "markdown",
   "metadata": {},
   "source": [
    "# Jupyter Notebooks\n",
    "\n",
    "<img style=\"width: 60%;\" src=\"img/jupyter-preview.png\">\n",
    "\n",
    "O Jupyter Notebook é uma aplicação web de código aberto que permite criar e compartilhar documentos que contém código fonte executável, equações, visualizações de dados e texto. Pode ser utilizado para diversos fins como:\n",
    "\n",
    "* Limpeza e tranformação de dados\n",
    "* Modelagem estatística\n",
    "* Visualização de dados\n",
    "* Work-Flows de Aprendizado de Máquina\n",
    "* Elaboração de relatórios dinâmicos\n",
    "\n",
    "\n",
    "## Instalação\n",
    "\n",
    "\n",
    "No terminal execute o seguinte comando para instalar:\n",
    "\n",
    "```pip install jupyter notebook```\n",
    "\n",
    "\n",
    "## Utilização\n",
    "\n",
    "Para executar o Jupyter, execute o comando:\n",
    "\n",
    "```jupyter notebook```\n",
    "<img src=\"img/run-jupyter-notebook.png\">\n",
    "\n",
    "Uma aba do seu navegador deverá se abrir com o Jupyter:\n",
    "\n",
    "<img src=\"img/jupyter-ui.jpeg\">"
   ]
  },
  {
   "cell_type": "markdown",
   "metadata": {},
   "source": [
    "# Referências\n",
    "\n",
    "* https://jupyter.org/\n",
    "* https://python.org.br\n",
    "* https://gvanrossum.github.io/\n",
    "* https://pt.wikipedia.org/wiki/Python\n",
    "* https://www.tiobe.com/tiobe-index/\n",
    "* https://zenorocha.com/licoes-aprendidas-com-o-mundo-python/"
   ]
  }
 ],
 "metadata": {
  "kernelspec": {
   "display_name": "Python 3",
   "language": "python",
   "name": "python3"
  },
  "language_info": {
   "codemirror_mode": {
    "name": "ipython",
    "version": 3
   },
   "file_extension": ".py",
   "mimetype": "text/x-python",
   "name": "python",
   "nbconvert_exporter": "python",
   "pygments_lexer": "ipython3",
   "version": "3.6.7"
  }
 },
 "nbformat": 4,
 "nbformat_minor": 2
}
